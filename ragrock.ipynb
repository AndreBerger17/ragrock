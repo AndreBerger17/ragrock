{
 "cells": [
  {
   "cell_type": "code",
   "execution_count": null,
   "metadata": {},
   "outputs": [],
   "source": [
    "# %load ragnarock_marketing.py\n",
    "\"\"\"\n",
    "Difficulty: 1\n",
    "\n",
    "To increase their Google search rating, Ragnarock Geo wants to automatically post their\n",
    "company name over the internet. But the engineers at Ragnarock Geo suspects that Google\n",
    "has filters in place for when bots just spam the same string over and over.\n",
    "\n",
    "Therefore, they want you to implement the function below. It takes three numbers.\n",
    "These three numbers will chose the string, using a quite simple pattern.\n",
    "\n",
    "If the number is divisible by the div1, the string should be Ragnar.\n",
    "\n",
    "If the number is divisible by the div2, the string should be Rock.\n",
    "\n",
    "If the number is divisble by both div1 and div2, the string should be RagnarRock\n",
    "\n",
    "If the number is divisible by neither, simply return the number as a string\n",
    "\"\"\"\n",
    "\n",
    "\n",
    "def ragnarock_marketing(number: int, div1: int, div2: int) -> str:\n",
    "    \"\"\"\n",
    "    Args:\n",
    "        number: The number to check\n",
    "        div1: The first divisor\n",
    "        div2: The second divisor\n",
    "\n",
    "    Returns:\n",
    "        The correct string.\n",
    "\n",
    "    Examples:\n",
    "    >>> ragnarock_marketing(5, 2, 3)\n",
    "    \"5\"\n",
    "    >>> ragnarock_marketing(10, 2, 3)\n",
    "    \"Ragnar\"\n",
    "    >>> ragnarock_marketing(15, 3, 5)\n",
    "    \"RagnarRock\"\n",
    "    >>> ragnarock_marketing(15, 2, 5)\n",
    "    \"Rock\"\n",
    "    \"\"\"\n",
    "    raise NotImplementedError()\n"
   ]
  },
  {
   "cell_type": "code",
   "execution_count": null,
   "metadata": {},
   "outputs": [],
   "source": [
    "if number % div1 == 0 and if number %div2 == 0\n",
    "return('RagnarRock')"
   ]
  },
  {
   "cell_type": "code",
   "execution_count": 5,
   "metadata": {},
   "outputs": [],
   "source": [
    "def ragnarock_marketing(number: int, div1: int, div2: int):\n",
    "\n",
    "    if number % div1 == 0 and number %div2 == 0:\n",
    "         return('RagnarRock')\n",
    "    elif number % div1 == 0:\n",
    "       return(\"Ragnar\")\n",
    "    elif number % div2 == 0:\n",
    "        return(\"Rock\")\n",
    "    else:\n",
    "        return(str(number))"
   ]
  },
  {
   "cell_type": "code",
   "execution_count": 7,
   "metadata": {},
   "outputs": [
    {
     "data": {
      "text/plain": [
       "'Ragnar'"
      ]
     },
     "execution_count": 7,
     "metadata": {},
     "output_type": "execute_result"
    }
   ],
   "source": [
    "ragnarock_marketing(10,2,3)"
   ]
  },
  {
   "cell_type": "code",
   "execution_count": 8,
   "metadata": {},
   "outputs": [],
   "source": [
    "def ragnarock_marketing(number: int, div1: int, div2: int):\n",
    "   if number % div1 == 0 and number %div2 == 0:\n",
    "        return('RagnarRock')\n",
    "   elif number % div1 == 0:\n",
    "      return(\"Ragnar\")\n",
    "   elif number % div2 == 0:\n",
    "       return(\"Rock\")\n",
    "   else:\n",
    "       return(str(number))"
   ]
  },
  {
   "cell_type": "code",
   "execution_count": null,
   "metadata": {},
   "outputs": [],
   "source": []
  }
 ],
 "metadata": {
  "kernelspec": {
   "display_name": "Python 3",
   "language": "python",
   "name": "python3"
  },
  "language_info": {
   "codemirror_mode": {
    "name": "ipython",
    "version": 3
   },
   "file_extension": ".py",
   "mimetype": "text/x-python",
   "name": "python",
   "nbconvert_exporter": "python",
   "pygments_lexer": "ipython3",
   "version": "3.7.3"
  }
 },
 "nbformat": 4,
 "nbformat_minor": 2
}
